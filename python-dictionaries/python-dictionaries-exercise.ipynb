{
 "cells": [
  {
   "cell_type": "code",
   "execution_count": 1,
   "metadata": {},
   "outputs": [],
   "source": [
    "def binaryDict(a):\n",
    "  if a>16:\n",
    "    a = 16 #it doesn't work for binary values greater than 15, which is the first 16 binary numbers, and because of how range() works it just works this way\n",
    "\n",
    "  key_values = []\n",
    "  for x in range(a):\n",
    "    key_values.append(str(x))\n",
    "\n",
    "  binary_values = []\n",
    "  for x in range(a):\n",
    "    bits = [0,0,0,0]\n",
    "    loop = 0\n",
    "    while x>0:\n",
    "      loop += 1\n",
    "      if x%2:\n",
    "        bits[-loop] = 1\n",
    "      x = x//2\n",
    "    bits = str(bits).replace(\", \",\"\").replace(\"[\",\"\").replace(\"]\",\"\")\n",
    "    binary_values.append(bits)\n",
    "\n",
    "  binary_dict = {}\n",
    "  for x in range(a):\n",
    "    key = int(key_values[x])\n",
    "    binary = binary_values[x]\n",
    "    binary_dict[key]=binary\n",
    "\n",
    "  return binary_dict"
   ]
  },
  {
   "cell_type": "code",
   "execution_count": 2,
   "metadata": {},
   "outputs": [
    {
     "data": {
      "text/plain": [
       "{0: '0000',\n",
       " 1: '0001',\n",
       " 2: '0010',\n",
       " 3: '0011',\n",
       " 4: '0100',\n",
       " 5: '0101',\n",
       " 6: '0110',\n",
       " 7: '0111',\n",
       " 8: '1000',\n",
       " 9: '1001',\n",
       " 10: '1010',\n",
       " 11: '1011',\n",
       " 12: '1100',\n",
       " 13: '1101',\n",
       " 14: '1110',\n",
       " 15: '1111'}"
      ]
     },
     "execution_count": 2,
     "metadata": {},
     "output_type": "execute_result"
    }
   ],
   "source": [
    "binaryDict(16)"
   ]
  }
 ],
 "metadata": {
  "kernelspec": {
   "display_name": "Python 3",
   "language": "python",
   "name": "python3"
  },
  "language_info": {
   "codemirror_mode": {
    "name": "ipython",
    "version": 3
   },
   "file_extension": ".py",
   "mimetype": "text/x-python",
   "name": "python",
   "nbconvert_exporter": "python",
   "pygments_lexer": "ipython3",
   "version": "3.12.3"
  }
 },
 "nbformat": 4,
 "nbformat_minor": 2
}
