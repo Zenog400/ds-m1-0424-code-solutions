{
 "cells": [
  {
   "cell_type": "code",
   "execution_count": 1,
   "metadata": {},
   "outputs": [],
   "source": [
    "import pandas as pd"
   ]
  },
  {
   "cell_type": "code",
   "execution_count": 7,
   "metadata": {},
   "outputs": [],
   "source": [
    "event = pd.read_csv(\"Telstra Competition Data\\\\event_type.csv\")\n",
    "log = pd.read_csv(\"Telstra Competition Data\\\\log_feature.csv\")\n",
    "resource = pd.read_csv(\"Telstra Competition Data\\\\resource_type.csv\")\n",
    "sample = pd.read_csv(\"Telstra Competition Data\\\\sample_submission.csv\")\n",
    "severity = pd.read_csv(\"Telstra Competition Data\\\\severity_type.csv\")\n",
    "test = pd.read_csv(\"Telstra Competition Data\\\\test.csv\")\n",
    "train = pd.read_csv(\"Telstra Competition Data\\\\train.csv\")"
   ]
  },
  {
   "cell_type": "markdown",
   "metadata": {},
   "source": [
    "1. Merge Tables.\n",
    "2. Understand the difference between inner and outer merge.\n",
    "3. Understand the difference between merge and join."
   ]
  },
  {
   "cell_type": "code",
   "execution_count": 23,
   "metadata": {},
   "outputs": [],
   "source": [
    "merged = event.merge(log)\n",
    "merged = merged.merge(resource,how='outer')\n",
    "merged = merged.merge(sample,how='outer')\n",
    "merged = merged.merge(severity,how='outer')\n",
    "merged = merged.merge(test,how='outer')\n",
    "merged = merged.merge(train,how='outer')"
   ]
  },
  {
   "cell_type": "markdown",
   "metadata": {},
   "source": [
    "4. Divide dataset into two dataframes."
   ]
  },
  {
   "cell_type": "code",
   "execution_count": null,
   "metadata": {},
   "outputs": [],
   "source": [
    "merged_1 = merged[:100000]\n",
    "merged_2 = merged[100000:]"
   ]
  },
  {
   "cell_type": "markdown",
   "metadata": {},
   "source": [
    "5. Concat the two dataframes."
   ]
  },
  {
   "cell_type": "code",
   "execution_count": null,
   "metadata": {},
   "outputs": [],
   "source": [
    "merged_concat = pd.concat([merged_1,merged_2])"
   ]
  },
  {
   "cell_type": "markdown",
   "metadata": {},
   "source": [
    "6. Handle duplicates."
   ]
  },
  {
   "cell_type": "code",
   "execution_count": 25,
   "metadata": {},
   "outputs": [],
   "source": [
    "merged_no_dupe =  merged.drop_duplicates()"
   ]
  }
 ],
 "metadata": {
  "kernelspec": {
   "display_name": "Python 3",
   "language": "python",
   "name": "python3"
  },
  "language_info": {
   "codemirror_mode": {
    "name": "ipython",
    "version": 3
   },
   "file_extension": ".py",
   "mimetype": "text/x-python",
   "name": "python",
   "nbconvert_exporter": "python",
   "pygments_lexer": "ipython3",
   "version": "3.12.3"
  }
 },
 "nbformat": 4,
 "nbformat_minor": 2
}
