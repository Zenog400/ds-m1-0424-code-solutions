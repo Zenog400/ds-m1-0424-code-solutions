{
 "cells": [
  {
   "cell_type": "code",
   "execution_count": 1,
   "metadata": {},
   "outputs": [],
   "source": [
    "import pandas as pd\n",
    "import numpy as np\n",
    "import matplotlib.pyplot as plt\n",
    "import seaborn as sb"
   ]
  },
  {
   "cell_type": "code",
   "execution_count": 2,
   "metadata": {},
   "outputs": [
    {
     "name": "stdout",
     "output_type": "stream",
     "text": [
      "<class 'pandas.core.frame.DataFrame'>\n",
      "RangeIndex: 39 entries, 0 to 38\n",
      "Data columns (total 17 columns):\n",
      " #   Column           Non-Null Count  Dtype  \n",
      "---  ------           --------------  -----  \n",
      " 0   Sale ID          39 non-null     int64  \n",
      " 1   Company          39 non-null     object \n",
      " 2   Contact          39 non-null     object \n",
      " 3   Contact Sex      39 non-null     object \n",
      " 4   Contact Age      39 non-null     int64  \n",
      " 5   Contact City     39 non-null     object \n",
      " 6   Contact State    39 non-null     object \n",
      " 7   Product Company  39 non-null     object \n",
      " 8   Product ID       39 non-null     object \n",
      " 9   Product Type     39 non-null     object \n",
      " 10  Sale Price       39 non-null     float64\n",
      " 11  Our Cost         39 non-null     float64\n",
      " 12  Shipping Cost    39 non-null     float64\n",
      " 13  Profit           39 non-null     float64\n",
      " 14  Lead Source      39 non-null     object \n",
      " 15  Sale Month       39 non-null     object \n",
      " 16  Sale Year        39 non-null     int64  \n",
      "dtypes: float64(4), int64(3), object(10)\n",
      "memory usage: 5.3+ KB\n"
     ]
    }
   ],
   "source": [
    "data = pd.read_csv(\"Sales_data.txt\")\n",
    "data.info()"
   ]
  },
  {
   "cell_type": "markdown",
   "metadata": {},
   "source": [
    "# EX1\n",
    "\n",
    "What is target market? Male or female? (more frequent buyer)"
   ]
  },
  {
   "cell_type": "markdown",
   "metadata": {},
   "source": [
    "# EX2\n",
    "\n",
    "If business is cash-constrained, which gender should be targeted?"
   ]
  },
  {
   "cell_type": "markdown",
   "metadata": {},
   "source": [
    "\"Cash-constrained\" = \"Minimize costs for cash-constrained party\""
   ]
  },
  {
   "cell_type": "markdown",
   "metadata": {},
   "source": [
    "# EX3\n",
    "\n",
    "If consumer is cash-constrained, which gender should be targeted?"
   ]
  },
  {
   "cell_type": "markdown",
   "metadata": {},
   "source": [
    "# EX4\n",
    "\n",
    "What is our target age to maximize profit?"
   ]
  },
  {
   "cell_type": "markdown",
   "metadata": {},
   "source": [
    "# EX5\n",
    "\n",
    "Which product should we feature?"
   ]
  },
  {
   "cell_type": "markdown",
   "metadata": {},
   "source": [
    "# EX6\n",
    "\n",
    "What lead sources have worked in the past: website, flyer, or email?"
   ]
  },
  {
   "cell_type": "markdown",
   "metadata": {},
   "source": [
    "# EX7\n",
    "\n",
    "When is the best time to do email marketing?"
   ]
  }
 ],
 "metadata": {
  "kernelspec": {
   "display_name": "Python 3",
   "language": "python",
   "name": "python3"
  },
  "language_info": {
   "codemirror_mode": {
    "name": "ipython",
    "version": 3
   },
   "file_extension": ".py",
   "mimetype": "text/x-python",
   "name": "python",
   "nbconvert_exporter": "python",
   "pygments_lexer": "ipython3",
   "version": "3.12.3"
  }
 },
 "nbformat": 4,
 "nbformat_minor": 2
}
