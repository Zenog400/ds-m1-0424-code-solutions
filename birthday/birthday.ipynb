{
 "cells": [
  {
   "cell_type": "code",
   "execution_count": 6,
   "metadata": {},
   "outputs": [],
   "source": [
    "from datetime import date, time, datetime as dt\n",
    "import pytz\n",
    "from datetime import timezone\n",
    "def age(dob):\n",
    "  '''\n",
    "  Calculates age based on date of birth\\n\\n\n",
    "  Input date of birth in the format YYYY-MM-DD\n",
    "  '''\n",
    "  now = dt.now()\n",
    "  dob = dt.strptime(dob,\"%Y-%m-%d\")\n",
    "  age = now-dob\n",
    "  return age.days//365"
   ]
  },
  {
   "cell_type": "code",
   "execution_count": 7,
   "metadata": {},
   "outputs": [
    {
     "data": {
      "text/plain": [
       "25"
      ]
     },
     "execution_count": 7,
     "metadata": {},
     "output_type": "execute_result"
    }
   ],
   "source": [
    "age(\"1998-08-04\")"
   ]
  }
 ],
 "metadata": {
  "kernelspec": {
   "display_name": "Python 3",
   "language": "python",
   "name": "python3"
  },
  "language_info": {
   "codemirror_mode": {
    "name": "ipython",
    "version": 3
   },
   "file_extension": ".py",
   "mimetype": "text/x-python",
   "name": "python",
   "nbconvert_exporter": "python",
   "pygments_lexer": "ipython3",
   "version": "3.12.3"
  }
 },
 "nbformat": 4,
 "nbformat_minor": 2
}
