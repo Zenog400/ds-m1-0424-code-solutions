{
 "cells": [
  {
   "cell_type": "code",
   "execution_count": null,
   "metadata": {},
   "outputs": [],
   "source": [
    "import pandas as pd\n",
    "import numpy as np\n",
    "import sklearn.preprocessing as skprep\n",
    "from scipy.stats import boxcox, yeojohnson"
   ]
  },
  {
   "cell_type": "code",
   "execution_count": null,
   "metadata": {},
   "outputs": [],
   "source": [
    "data = pd.read_csv(\"mtcars_mod.csv\")\n",
    "data"
   ]
  },
  {
   "cell_type": "markdown",
   "metadata": {},
   "source": [
    "- car\n",
    "    - Name\n",
    "- mpg\n",
    "    - continuous\n",
    "- cyl\n",
    "    - Categorical\n",
    "- disp\n",
    "    - Continuous?\n",
    "    - true bounds known\n",
    "- hp\n",
    "    - Continuous?\n",
    "    - Sparse\n",
    "- drat\n",
    "    - Outliers\n",
    "- wt\n",
    "    - Check distribution\n",
    "    - should be normally distributed\n",
    "- qsec\n",
    "    - Has negatives\n",
    "- vs\n",
    "    - Categorical?\n",
    "- am\n",
    "    - Categorical\n",
    "- gear\n",
    "    - Categorical\n",
    "- carb\n",
    "    - Categorical"
   ]
  },
  {
   "cell_type": "code",
   "execution_count": null,
   "metadata": {},
   "outputs": [],
   "source": [
    "minmax = skprep.MinMaxScaler()\n",
    "standard = skprep.StandardScaler()\n",
    "maxAbs = skprep.MaxAbsScaler()\n",
    "robust = skprep.RobustScaler()"
   ]
  },
  {
   "cell_type": "markdown",
   "metadata": {},
   "source": [
    "# EX1\n",
    "Use the most appropriate scaling technique for each variable to scale `disp`, `hp`, `drat`, and `wt`, assuming wt should be normally distributed and the true bounds are known for disp."
   ]
  },
  {
   "cell_type": "code",
   "execution_count": null,
   "metadata": {},
   "outputs": [],
   "source": [
    "data2 = minmax.fit_transform(X=data[[\"disp\"]])\n",
    "data2 = data2.reshape((1,-1))[0]\n",
    "data[\"disp\"] = data2"
   ]
  },
  {
   "cell_type": "code",
   "execution_count": null,
   "metadata": {},
   "outputs": [],
   "source": [
    "data2 = maxAbs.fit_transform(X=data[[\"hp\"]])\n",
    "data2 = data2.reshape((1,-1))[0]\n",
    "data[\"hp\"] = data2"
   ]
  },
  {
   "cell_type": "code",
   "execution_count": null,
   "metadata": {},
   "outputs": [],
   "source": [
    "data2 = robust.fit_transform(X=data[[\"drat\"]])\n",
    "data2 = data2.reshape((1,-1))[0]\n",
    "data[\"drat\"] = data2"
   ]
  },
  {
   "cell_type": "code",
   "execution_count": null,
   "metadata": {},
   "outputs": [],
   "source": [
    "data2 = standard.fit_transform(X=data[[\"wt\"]])\n",
    "data2 = data2.reshape((1,-1))[0]\n",
    "data[\"wt\"] = data2"
   ]
  },
  {
   "cell_type": "markdown",
   "metadata": {},
   "source": [
    "# EX2\n",
    "Use Box-Cox or Yeo-Johnson to determine the best transformation to use to make mpg and qsec normally distributed. Show the transformed data and the value of $\\lambda$."
   ]
  },
  {
   "cell_type": "code",
   "execution_count": null,
   "metadata": {},
   "outputs": [],
   "source": [
    "mpg, mpg_lam = boxcox(data.mpg)\n",
    "data[\"mpg\"] = mpg\n",
    "print(mpg_lam)\n",
    "print(data[\"mpg\"])"
   ]
  },
  {
   "cell_type": "code",
   "execution_count": null,
   "metadata": {},
   "outputs": [],
   "source": [
    "qsec, qsec_lam = yeojohnson(data.qsec)\n",
    "data[\"qsec\"] = qsec\n",
    "print(qsec_lam)\n",
    "print(data[\"qsec\"])"
   ]
  },
  {
   "cell_type": "markdown",
   "metadata": {},
   "source": [
    "# EX3\n",
    "Normalize all of the numeric rows using L2-normalization and display the new dataframe."
   ]
  },
  {
   "cell_type": "code",
   "execution_count": null,
   "metadata": {},
   "outputs": [],
   "source": [
    "numeric = [\"mpg\",\"cyl\",\"disp\",\"hp\",\"drat\",\"wt\",\"qsec\",\"vs\",\"am\",\"gear\",\"carb\"]\n",
    "normalized = skprep.normalize(data[numeric])\n",
    "data[numeric] = normalized\n",
    "data"
   ]
  }
 ],
 "metadata": {
  "kernelspec": {
   "display_name": "Python 3",
   "language": "python",
   "name": "python3"
  },
  "language_info": {
   "codemirror_mode": {
    "name": "ipython",
    "version": 3
   },
   "file_extension": ".py",
   "mimetype": "text/x-python",
   "name": "python",
   "nbconvert_exporter": "python",
   "pygments_lexer": "ipython3",
   "version": "3.12.3"
  }
 },
 "nbformat": 4,
 "nbformat_minor": 2
}
